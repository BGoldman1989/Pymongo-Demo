{
 "cells": [
  {
   "cell_type": "markdown",
   "metadata": {
    "deletable": true,
    "editable": true
   },
   "source": [
    "# Connect to MongoDB server"
   ]
  },
  {
   "cell_type": "code",
   "execution_count": null,
   "metadata": {
    "collapsed": true,
    "deletable": true,
    "editable": true
   },
   "outputs": [],
   "source": [
    "from pymongo import MongoClient\n",
    "from pymongo.errors import ConnectionFailure\n",
    "\n",
    "#Setup Mongo Connection\n",
    "client = MongoClient('localhost', 27017, serverSelectionTimeoutMS=5000)\n",
    "\n",
    "#Test MongoDB connection\n",
    "try:\n",
    "    client.admin.command(\"ismaster\")\n",
    "except ConnectionFailure as e:\n",
    "    print e.message\n",
    "    exit(1)"
   ]
  },
  {
   "cell_type": "markdown",
   "metadata": {
    "deletable": true,
    "editable": true
   },
   "source": [
    "# Extract documents from JSON file and store in collection"
   ]
  },
  {
   "cell_type": "code",
   "execution_count": null,
   "metadata": {
    "collapsed": false,
    "deletable": true,
    "editable": true
   },
   "outputs": [],
   "source": [
    "from bson.son import SON\n",
    "import json\n",
    "from pymongo.collection import CodecOptions\n",
    "\n",
    "#Open JSON file\n",
    "json_file = open('data/seinfeld_eps.json')\n",
    "\n",
    "#Read contents of json file and write to DB\n",
    "json_data = json.load(json_file)\n",
    "episodes = json_data['_embedded']['episodes']\n",
    "database = client.get_database('tv_data')\n",
    "options = CodecOptions(document_class=SON)\n",
    "seinfeld_collection = database.get_collection('seinfeld_eps').with_options(codec_options=options)\n",
    "seinfeld_collection.insert_many(episodes)"
   ]
  },
  {
   "cell_type": "markdown",
   "metadata": {
    "deletable": true,
    "editable": true
   },
   "source": [
    "# Querying documents from a collection"
   ]
  },
  {
   "cell_type": "markdown",
   "metadata": {
    "deletable": true,
    "editable": true
   },
   "source": [
    "## Retrieve stored documents with one criterion"
   ]
  },
  {
   "cell_type": "code",
   "execution_count": null,
   "metadata": {
    "collapsed": false,
    "deletable": true,
    "editable": true
   },
   "outputs": [],
   "source": [
    "from print_utilities import print_result\n",
    "\n",
    "#Select all episodes from Season 1\n",
    "season_1_eps = seinfeld_collection.find({'season':1})\n",
    "print_result(season_1_eps)"
   ]
  },
  {
   "cell_type": "markdown",
   "metadata": {
    "collapsed": true,
    "deletable": true,
    "editable": true
   },
   "source": [
    "## Retrieve a document with multiple criteria"
   ]
  },
  {
   "cell_type": "code",
   "execution_count": null,
   "metadata": {
    "collapsed": false,
    "deletable": true,
    "editable": true
   },
   "outputs": [],
   "source": [
    "#Get season 1, episode 1\n",
    "season_1_ep_1 = seinfeld_collection.find_one({'season':1,'number':1})\n",
    "print_result(season_1_ep_1)"
   ]
  },
  {
   "cell_type": "markdown",
   "metadata": {
    "deletable": true,
    "editable": true
   },
   "source": [
    "## Retrieve documents using comparison operators"
   ]
  },
  {
   "cell_type": "code",
   "execution_count": null,
   "metadata": {
    "collapsed": false,
    "deletable": true,
    "editable": true
   },
   "outputs": [],
   "source": [
    "#Get season 1 episodes after the first\n",
    "season_1_gt_1 = seinfeld_collection.find({'season':1,'number':{'$gt':1}})\n",
    "print_result(season_1_gt_1)"
   ]
  },
  {
   "cell_type": "markdown",
   "metadata": {
    "deletable": true,
    "editable": true
   },
   "source": [
    "##  Retrieve documents with a regex criterion"
   ]
  },
  {
   "cell_type": "code",
   "execution_count": null,
   "metadata": {
    "collapsed": false,
    "deletable": true,
    "editable": true
   },
   "outputs": [],
   "source": [
    "import re\n",
    "\n",
    "#Get all episodes starting with the letter G (or 'The G')\n",
    "regex = re.compile('^(The )?G.+$')\n",
    "g_eps = seinfeld_collection.find({'name':regex})\n",
    "print_result(g_eps)"
   ]
  },
  {
   "cell_type": "markdown",
   "metadata": {
    "collapsed": true,
    "deletable": true,
    "editable": true
   },
   "source": [
    "# Creating, updating, and deleting documents from a collection"
   ]
  },
  {
   "cell_type": "markdown",
   "metadata": {
    "deletable": true,
    "editable": true
   },
   "source": [
    "## Insert a document"
   ]
  },
  {
   "cell_type": "code",
   "execution_count": null,
   "metadata": {
    "collapsed": false,
    "deletable": true,
    "editable": true
   },
   "outputs": [],
   "source": [
    "#Add a new episode\n",
    "seinfeld_collection.insert_one({'name':'The Data Wrangler',\n",
    "                                'airdate':'2017-2-17',\n",
    "                                'season': 10,\n",
    "                                'number': 1})"
   ]
  },
  {
   "cell_type": "markdown",
   "metadata": {
    "deletable": true,
    "editable": true
   },
   "source": [
    "## Update existing document"
   ]
  },
  {
   "cell_type": "code",
   "execution_count": null,
   "metadata": {
    "collapsed": false,
    "deletable": true,
    "editable": true
   },
   "outputs": [],
   "source": [
    "#Update episode\n",
    "seinfeld_collection.update_one({'name':'The Data Wrangler'},\n",
    "                               {'$set':{'airdate':'2017-2-24'}})"
   ]
  },
  {
   "cell_type": "markdown",
   "metadata": {
    "deletable": true,
    "editable": true
   },
   "source": [
    "## Delete document"
   ]
  },
  {
   "cell_type": "code",
   "execution_count": null,
   "metadata": {
    "collapsed": false,
    "deletable": true,
    "editable": true
   },
   "outputs": [],
   "source": [
    "#Delete episode\n",
    "seinfeld_collection.delete_one({'name':'The Data Wrangler'})"
   ]
  },
  {
   "cell_type": "markdown",
   "metadata": {
    "deletable": true,
    "editable": true
   },
   "source": [
    "# Aggregate Queries"
   ]
  },
  {
   "cell_type": "markdown",
   "metadata": {
    "deletable": true,
    "editable": true
   },
   "source": [
    "## Count all documents in a collection"
   ]
  },
  {
   "cell_type": "code",
   "execution_count": null,
   "metadata": {
    "collapsed": false,
    "deletable": true,
    "editable": true
   },
   "outputs": [],
   "source": [
    "#Count all seinfeld episodes\n",
    "episode_counts = seinfeld_collection.count()\n",
    "print_result(episode_counts)"
   ]
  },
  {
   "cell_type": "markdown",
   "metadata": {
    "deletable": true,
    "editable": true
   },
   "source": [
    "## Count documents by group"
   ]
  },
  {
   "cell_type": "code",
   "execution_count": null,
   "metadata": {
    "collapsed": false,
    "deletable": true,
    "editable": true
   },
   "outputs": [],
   "source": [
    "#Count seinfeld episodes by season\n",
    "season_cts = seinfeld_collection.aggregate([{'$group':{'_id':'$season',\n",
    "                                                       '_ep count':{'$sum': 1}}},\n",
    "                                            {'$project':{'season':'$_id',\n",
    "                                                         '_id':0,\n",
    "                                                         'ep count':'$_ep count'}}])\n",
    "print_result(season_cts)"
   ]
  },
  {
   "cell_type": "markdown",
   "metadata": {
    "deletable": true,
    "editable": true
   },
   "source": [
    "## Add filter to aggregate query"
   ]
  },
  {
   "cell_type": "code",
   "execution_count": null,
   "metadata": {
    "collapsed": false,
    "deletable": true,
    "editable": true
   },
   "outputs": [],
   "source": [
    "#Count seinfeld episodes in season 3\n",
    "s3_cts = seinfeld_collection.aggregate([{'$match':{'season':3}},\n",
    "                                        {'$group':{'_id':'$season',\n",
    "                                                   '_ep count':{'$sum': 1}}},\n",
    "                                        {'$project':{'season':'$_id',\n",
    "                                                     '_id': 0,\n",
    "                                                     'ep count':'$_ep count'}}])\n",
    "print_result(s3_cts)"
   ]
  },
  {
   "cell_type": "markdown",
   "metadata": {
    "deletable": true,
    "editable": true
   },
   "source": [
    "# Disconnect From MongoDB"
   ]
  },
  {
   "cell_type": "code",
   "execution_count": null,
   "metadata": {
    "collapsed": true,
    "deletable": true,
    "editable": true
   },
   "outputs": [],
   "source": [
    "client.close()"
   ]
  }
 ],
 "metadata": {
  "kernelspec": {
   "display_name": "Python 2",
   "language": "python",
   "name": "python2"
  },
  "language_info": {
   "codemirror_mode": {
    "name": "ipython",
    "version": 2
   },
   "file_extension": ".py",
   "mimetype": "text/x-python",
   "name": "python",
   "nbconvert_exporter": "python",
   "pygments_lexer": "ipython2",
   "version": "2.7.12"
  }
 },
 "nbformat": 4,
 "nbformat_minor": 2
}
